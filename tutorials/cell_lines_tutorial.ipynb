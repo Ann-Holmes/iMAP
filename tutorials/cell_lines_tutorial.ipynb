{
 "cells": [
  {
   "cell_type": "markdown",
   "metadata": {},
   "source": [
    "# iMAP Tutorial "
   ]
  },
  {
   "cell_type": "markdown",
   "metadata": {},
   "source": [
    "## 1. Installation"
   ]
  },
  {
   "cell_type": "markdown",
   "metadata": {},
   "source": [
    "### 1.1 Prerequisites"
   ]
  },
  {
   "cell_type": "markdown",
   "metadata": {},
   "source": [
    "<ul>\n",
    "    <li>Install Python >= 3.6. Typically, you should use the Linux system and install a newest version of <a href='https://www.anaconda.com/'>Anaconda</a> or <a href = 'https://docs.conda.io/en/latest/miniconda.html'> Miniconda </a>.</li>\n",
    "    <li>Install pytorch >= 1.1.0. To obtain the optimal performance of deep learning-based models, you should have a Nivia GPU and install the appropriate version of CUDA. (We tested with CUDA >= 9.0)</li>\n",
    "    <li> Install scanpy >= 1.5.1 for pre-processing </li>\n",
    "    <li>(Optional) Install <a href='https://github.com/slundberg/shap'>SHAP</a> for interpretation.</li>\n",
    "</ul>"
   ]
  },
  {
   "cell_type": "markdown",
   "metadata": {},
   "source": [
    "### 1.2 Installation"
   ]
  },
  {
   "cell_type": "markdown",
   "metadata": {},
   "source": [
    "The functions required for the stage I and II of iMAP could be imported from “imap.stage1” and “imap.stage2”, respectively."
   ]
  },
  {
   "cell_type": "markdown",
   "metadata": {},
   "source": [
    "## 2. iMAP workflow"
   ]
  },
  {
   "cell_type": "markdown",
   "metadata": {},
   "source": [
    "In this tutorial, we will show the entire iMAP pipeline using the 'cell_lines' dataset (See <font color='red'>main text</font>). The total workfow includes: \n",
    "<ol>\n",
    "    <li>Loading and preprocessing data;</li>\n",
    "    <li>Running the main iMAP two-stage batch effect removal procedure;</li>\n",
    "    <li>(Optional) Visulizations; </li>\n",
    "    <li>(Optional) Interpreting the trained model. </li>    \n",
    "</ol>"
   ]
  },
  {
   "cell_type": "code",
   "execution_count": null,
   "metadata": {},
   "outputs": [],
   "source": [
    "#### IMPORT LIBRARY ####\n",
    "import scanpy as sc\n",
    "import imap"
   ]
  },
  {
   "cell_type": "markdown",
   "metadata": {},
   "source": [
    "### 2.1 Loading and preprocessing data"
   ]
  },
  {
   "cell_type": "markdown",
   "metadata": {},
   "source": [
    "The 'cell_lines' dataset is already stored at <a href=''><font color='blue'>'../data/cell_lines.loom'</font></a>. We use the scanpy API to read the file and store as a 'adata' object. Two kinds of metadata were necessary: **'batch'** and **'celltype'**, while the latter was only used for visualizations and interpretations. "
   ]
  },
  {
   "cell_type": "code",
   "execution_count": null,
   "metadata": {},
   "outputs": [],
   "source": [
    "adata = sc.read_loom('../data/cell_lines.loom',sparse=False)  #Load cell line dataset(-> count data). \n",
    "# celltype = adata.obs['celltype']\n",
    "# Save celltype for visualize the results conveniently. (Not necessary for iMAP)."
   ]
  },
  {
   "cell_type": "markdown",
   "metadata": {},
   "source": [
    "**Preprocessing:** \n",
    "\n",
    "We provide a simple pre-process procedure as a function `imap.stage1.data_preprocess`. One essential request for the successful running of iMAP stage1&2 is that the input data should be in the form of <font color='blue'>**log-TPM-like (non-negative)**</font>. And `imap.stage1.data_preprocess` function helps you convert <font color='blue'>**count data**</font> to <font color='blue'>**log-TPM-like**</font> and acquire <font color='blue'>**highly variable genes**</font>.\n",
    "\n",
    "Be default, Scanpy API `scanpy.pp.highly_variable_genes` is used in iMAP to select highly variable genes from each batch to assist in discovering biological variations. We also recommend users preprocess the data in their own way, as long as the data meets iMAP's requirements. The numbers of genes are relatively appropriate at the level of about 2000. However, it is acceptable to test the performance of 1000-4000 under different data. "
   ]
  },
  {
   "cell_type": "markdown",
   "metadata": {},
   "source": [
    "#### iMAP Preprocessing Parameters:"
   ]
  },
  {
   "cell_type": "markdown",
   "metadata": {},
   "source": [
    "`imap.stage1.data_preprocess(adata: sc.AnnData, key: str='batch', n_top_genes: int=2000, flavor: str='seurat_v3', min_genes: int=200, min_cells: int=3) -> sc.AnnData`:\n",
    "\n",
    "`adata`: Annotated data matrix(`scanpy.AnnData` class) loaded. Count data, annotation of observations adata.obs(batch information must be contined) and variables adata.var as pd.DataFrame. Names of observations(cell names) and variables(gene names) can be accessed via adata.obs_names and adata.var_names, respectively.\n",
    "\n",
    "`key`: Name of annotation of batch information in adata. Set to 'batch' here.\n",
    "\n",
    "`n_top_genes`: Number of highly-variable genes to keep. A parameter for `scanpy.pp.highly_varibale_genes`. Set to 2000 here.\n",
    "\n",
    "`flavor`: Choose the flavor for identifying highly variable genes. For the dispersion based methods in their default workflows, Seurat passes the cutoffs whereas Cell Ranger passes `n_top_genes`. A parameter for `scanpy.pp.highly_varibale_genes`. Set to 'seurat_v3' here.\n",
    "\n",
    "`min_genes`: Minimum number of genes expressed required for a cell to pass filtering. A parameter for `scanpy.pp.filter_cells`. Set to 200 here.\n",
    "\n",
    "`min_cells`: Minimum number of cells expressed required for a gene to pass filtering. A parameter for `scanpy.pp.filter_genes`. Set to 3 here."
   ]
  },
  {
   "cell_type": "code",
   "execution_count": null,
   "metadata": {},
   "outputs": [],
   "source": [
    "adata = imap.stage1.data_preprocess(adata, 'batch')  # Preprocess the data.(count data -> log-format data, high-var genes selected)\n",
    "adata  # Output the basic information of the preprocessed data."
   ]
  },
  {
   "cell_type": "markdown",
   "metadata": {},
   "source": [
    "#### Other Preprocessing Parameters:\n",
    "\n",
    "`imap.stage1.custom_data_preprocess(adata: sc.AnnData, key: str='batch', n_top_genes: int=None, n_batch: int=2, flavor: str='seurat', min_genes: int=200, min_cells: int=3) -> sc.AnnData:`\n",
    "\n",
    "At the time iMAP was being developed, scanpy was an older version that had no control over the `batch_key` and `flavor` parameters for `scanpy.pp.highly_varibale_genes`, and `custom_data_preprocess` is a function designed for highly-variable genes that selected within each batch separately and merged. This function is reserved because the reproduciblity of our article results. This function is cumbersome to use and is not recommended because we have updated the dependent libraries and corresponding functions. The parameters are the same as before, with two differences.\n",
    "\n",
    "`n_batch`: For all flavors, genes are first sorted by how many batches they are a HVG. Only those genes that are HVG in at least `n_batch` or more batches are selected and merged.\n",
    "\n",
    "`flavor`: The old version `scanpy.pp.highly_varibale_genes` only has one flavor. Set to 'seurat' as the old version used."
   ]
  },
  {
   "cell_type": "markdown",
   "metadata": {},
   "source": [
    "### 2.2 Batch effect removal by iMAP"
   ]
  },
  {
   "cell_type": "markdown",
   "metadata": {},
   "source": [
    "<font color='blue'>**Stage I - Key tunable hyperparameters:**</font>\n",
    "\n",
    "`imap.stage1.iMAP_fast(adata, key='batch', n_epochs=150, num_workers=0, lr=0.0005, b1=0.5, b2=0.999, latent_dim=256, n_critic=5, lambda_co=3, lambda_rc=1, seed=8)`\n",
    "\n",
    "`adata`: Annotated data matrix(`scanpy.AnnData` class) to input the model. An AnnData object adata stores a data matrix adata.X(log-TPM-like single cell transcriptomics data), annotation of observations adata.obs(batch information must be contined) and variables adata.var as pd.DataFrame. Names of observations(cell names) and variables(gene names) can be accessed via adata.obs_names and adata.var_names, respectively.\n",
    "\n",
    "`key`: Name of annotation of batch information in adata. Set to 'batch' here.\n",
    "\n",
    "`n_epochs`: Number of epochs (in Stage I) to train the model. **It has a great effect on the results of iMAP.** The number of epochs should be set according to the number of cells in your dataset. For example, 150 epochs is generally fine for around or greater than 10,000 cells. 100 epochs or fewer for fewer than 5,000 cells(i.e. n_epochs was set to 50 for **541 cells** in DC_rm). The number of training epochs could be slightly increased (i.e. n_epochs was set to 200 for Cell lines dataset), to make the model better exploit datasets with subtle heterogeneities.\n",
    "\n",
    "`lr`: learning rate. Set to 0.0005 here. \n",
    "\n",
    "`lambda_co`, `lambda_rc`: Coefficients to balance the content loss and the reconstruction loss. Set to 3, 1 separately.\n",
    "\n",
    "**Stage I - Other tunable hyperparameters:**\n",
    "\n",
    "`latent_dim`: The dimension of content representations vector. Set to 256 here.\n",
    "\n",
    "`b1`, `b2`: Parameters for Adam optimizer. Set to 0.5, 0.999 separately.\n",
    "\n",
    "`num_workers`: Number of CPU for pytorch DataLoader to train the model. Set to 0 to load data automately.\n",
    "\n",
    "`seed`: Random seed used to initialize the pseudo-random number generator. If seed is 'None', then random state will try to read data from /dev/urandom (or the Windows analogue) and so on according to the mechanism of the different random functions used in iMAP. Set to 8 here.\n",
    "\n",
    "<font color='blue'>**Stage II - Key tunable hyperparameters:**</font>\n",
    "\n",
    "`imap.stage2.integrate_data(data: sc.AnnData, cali_data: sc.AnnData, key='batch', n_epochs=150, inc=False, orders=None, metric='angular', k1=None, k2=None, n_batch=2, n_sample=3000, seed=8)`\n",
    "\n",
    "`adata`: Same as Stage I.\n",
    "\n",
    "`cali_data`: Annotated data matrix to create rwMNN pairs.(It's actually the `ec_data` which returned by Stage I.)\n",
    "\n",
    "`key`: Same as Stage I.\n",
    "\n",
    "`n_epochs`: Number of epochs (in Stage II) to train the model. **It is also the most important hyparameters for training.** The principle of parameter adjustment is the same as the previous stage(i.e. n_epoch is set to 150 as default, 40 for DC_rm, and 300 for cell lines).\n",
    "\n",
    "`inc`: Set to `True` for multi-batch datasets for a better mixture.\n",
    "\n",
    "`orders`: Sequence to align sub-dataset. 'None' for automatically sequencing. Set to 'None' here. For example, `orders=['Mix', 'Jurkat, '293t']` for manually sequecing.\n",
    "\n",
    "`lr`: Learning rate. Set to 0.0002 here. \n",
    "\n",
    "`k1`, `k2`: k1 for k nearest neighbors between two sub-datasets in calculation MNN pairs. k2 for k nearest neighbors within the identical sub-datasets for random walk extending. **It is important because the quality of rwMNN pairs directly affect the final blending effect.** “None” for calculating automatically. All set to 'None' here. For datasets with a particularly small number of cells, it is recommended to adjust them according to the actual situation(i.e. k1, k2 is appropriately increased to 1, 5(which is 1,2 for automatically calculating) in 549 cells of DC_rm datasets for a better mixture).\n",
    "\n",
    "**Stage II - Other tunable hyperparameters:**\n",
    "\n",
    "`n_sample`: Number of samples to train the model. Set to 3000 here. \n",
    "\n",
    "`seed`: Same as Stage I\n",
    "\n",
    "\n",
    "\n",
    "\n",
    "**Stage I: `imap.stage1.iMAP_fast` will return `EC`(encoder for extracting celltype contents) and `ec_data`(celltype contents of input adata).**\n",
    "\n",
    "**Stage II: `imap.stage2.integrate_data` will return `output_results`(log-TPM-like single cell data aligned by iMAP).**\n"
   ]
  },
  {
   "cell_type": "code",
   "execution_count": null,
   "metadata": {},
   "outputs": [],
   "source": [
    "### Stage I\n",
    "EC, ec_data = imap.stage1.iMAP_fast(adata, key=\"batch\", n_epochs=200) \n",
    "\n",
    "### Stage II\n",
    "output_results = imap.stage2.integrate_data(adata, ec_data, inc = False, n_epochs=300)"
   ]
  },
  {
   "cell_type": "markdown",
   "metadata": {},
   "source": [
    "### 2.3 Visualizations"
   ]
  },
  {
   "cell_type": "code",
   "execution_count": null,
   "metadata": {},
   "outputs": [],
   "source": [
    "import os\n",
    "import numpy as np\n",
    "import pandas as pd\n",
    "import scanpy as sc\n",
    "import seaborn as sns\n",
    "from sklearn.decomposition import PCA\n",
    "import matplotlib.pyplot as plt\n",
    "import umap\n",
    "\n",
    "#### UMAP ####\n",
    "def data2umap(data, n_pca=0):\n",
    "    if n_pca > 0:\n",
    "        pca = PCA(n_components=n_pca)\n",
    "        embedding = pca.fit_transform(data)\n",
    "    else:\n",
    "        embedding = data\n",
    "    embedding_ = umap.UMAP(\n",
    "        n_neighbors=30,\n",
    "        min_dist=0.3,\n",
    "        metric='cosine',\n",
    "        n_components = 2,\n",
    "        learning_rate = 1.0,\n",
    "        spread = 1.0,\n",
    "        set_op_mix_ratio = 1.0,\n",
    "        local_connectivity = 1,\n",
    "        repulsion_strength = 1,\n",
    "        negative_sample_rate = 5,\n",
    "        angular_rp_forest = False,\n",
    "        verbose = False\n",
    "    ).fit_transform(embedding)\n",
    "    return embedding_\n",
    "def umap_plot(data, hue, title, save_path):\n",
    "    import seaborn as sns\n",
    "    fig = sns.lmplot(\n",
    "        x = 'UMAP_1',\n",
    "        y = 'UMAP_2',\n",
    "        data = data,\n",
    "        fit_reg = False,\n",
    "        legend = True,\n",
    "        size = 9,\n",
    "        hue = hue,\n",
    "        scatter_kws = {'s':4, \"alpha\":0.6}\n",
    "    )\n",
    "    plt.title(title, weight='bold').set_fontsize('20')\n",
    "    fig.savefig(save_path)\n",
    "    plt.close()\n",
    "def gplot(embedding_, batch_info, celltype_info, filename):\n",
    "    test = pd.DataFrame(embedding_, columns=['UMAP_1', 'UMAP_2'])\n",
    "    test['Label1'] = batch_info\n",
    "    test['Label2'] = celltype_info\n",
    "    title = f' '\n",
    "    for i in range(1,3):\n",
    "        hue = f'Label{i}'\n",
    "        save_path = './pic/'+filename + f'{i}.png'\n",
    "        umap_plot(test, hue, title, save_path)"
   ]
  },
  {
   "cell_type": "markdown",
   "metadata": {},
   "source": [
    "**Visualizations for the representations from stage I:** The results are saved in './pic/' directory. (256d dimensional reduction results colorder by 'celltype')"
   ]
  },
  {
   "cell_type": "code",
   "execution_count": null,
   "metadata": {},
   "outputs": [],
   "source": [
    "embedding_ = data2umap(np.array(ec_data.X), n_pca=30)\n",
    "gplot(embedding_, np.array(ec_data.obs['batch']), np.array([celltype[item] for item in ec_data.obs_names]), 'cellline_ec_')"
   ]
  },
  {
   "cell_type": "markdown",
   "metadata": {},
   "source": [
    "**Visualizations for the final output results**:The results are saved in './pic/' directory. "
   ]
  },
  {
   "cell_type": "code",
   "execution_count": null,
   "metadata": {},
   "outputs": [],
   "source": [
    "embedding_ = data2umap(output_results, n_pca=30)\n",
    "gplot(embedding_, np.array(adata.obs['batch']), np.array([celltype[item] for item in adata.obs_names]), 'cellline_G_')"
   ]
  },
  {
   "cell_type": "markdown",
   "metadata": {
    "ExecuteTime": {
     "end_time": "2021-02-18T07:44:34.865670Z",
     "start_time": "2021-02-18T07:44:34.833753Z"
    }
   },
   "source": [
    "<center class=\"half\">\n",
    "    <img src=\"../pic/cellline_G_1.png\" width=\"500\"/>\n",
    "    <img src=\"../pic/cellline_G_2.png\" width=\"500\"/>\n",
    "</center>"
   ]
  },
  {
   "cell_type": "markdown",
   "metadata": {},
   "source": [
    "### 2.4 Interpretations"
   ]
  },
  {
   "cell_type": "markdown",
   "metadata": {},
   "source": [
    "Here we use <a href='https://github.com/slundberg/shap'>SHAP</a> to explain the decoupling model. The `imap.stage1.explaix_importance` function takes `EC`, `adata`, `celltypes` as inputs to explain which genetic features the model learned are important for cell types. The `imap.stage1.contrast_explain_importance` function takes adata and platform annotation as inputs and calulate the different genetic feature between the platforms.\n",
    "\n",
    "The results are saved in './' directory."
   ]
  },
  {
   "cell_type": "code",
   "execution_count": null,
   "metadata": {},
   "outputs": [],
   "source": [
    "celltypes = np.array(adata.obs['celltype'])\n",
    "platform = np.array(adata.obs['batch'])"
   ]
  },
  {
   "cell_type": "code",
   "execution_count": null,
   "metadata": {},
   "outputs": [],
   "source": [
    "imap.explain_importance(EC, adata, celltypes, print_loss=True, n_epochs=400)\n",
    "imap.contrast_explain_importance(adata, platform, print_loss=True, n_epochs=400)"
   ]
  }
 ],
 "metadata": {
  "kernelspec": {
   "display_name": "Python 3",
   "language": "python",
   "name": "python3"
  },
  "language_info": {
   "codemirror_mode": {
    "name": "ipython",
    "version": 3
   },
   "file_extension": ".py",
   "mimetype": "text/x-python",
   "name": "python",
   "nbconvert_exporter": "python",
   "pygments_lexer": "ipython3",
   "version": "3.7.8"
  }
 },
 "nbformat": 4,
 "nbformat_minor": 4
}

{
 "cells": [
  {
   "cell_type": "markdown",
   "metadata": {},
   "source": [
    "# Human Cell Atlas Tutorial"
   ]
  },
  {
   "cell_type": "markdown",
   "metadata": {},
   "source": [
    "### iMAP workflow"
   ]
  },
  {
   "cell_type": "markdown",
   "metadata": {},
   "source": [
    "In this tutorial, we will show the entire iMAP pipeline using the 'Human cell atlas' dataset. This is a large dataset with 321,463 bone marrow cells in batch 1 and 300,003 cord blood-derived cells in batch 2. And we will use this dataset to measure iMAP's ability to handle big data and measure the time consumed by each part of the processure.\n",
    "\n",
    "The total workfow includes: \n",
    "<ol>\n",
    "    <li>Loading and preprocessing data;</li>\n",
    "    <li>Running the main iMAP two-stage batch effect removal procedure;</li>\n",
    "    <li>(Optional) Visulizations; </li>\n",
    "</ol>"
   ]
  },
  {
   "cell_type": "code",
   "execution_count": null,
   "metadata": {},
   "outputs": [],
   "source": [
    "#### IMPORT LIBRARY ####\n",
    "import datetime\n",
    "import numpy as np\n",
    "import scanpy as sc\n",
    "import imap"
   ]
  },
  {
   "cell_type": "markdown",
   "metadata": {},
   "source": [
    "#### 1. Loading and preprocessing data"
   ]
  },
  {
   "cell_type": "markdown",
   "metadata": {},
   "source": [
    "The 'Human cell atlas' dataset is already stored at <a href=''><font color='blue'>'../other_data/ica_cord_blood_h5.h5'</font></a> and <a href=''><font color='blue'>'../other_data/ica_bone_marrow_h5.h5'</font></a>. We use the scanpy API `read_10x_h5` to read the file and store as an 'AnnData' object. Here we record the time it takes to import the data, which on our computer is usually around 18s."
   ]
  },
  {
   "cell_type": "code",
   "execution_count": null,
   "metadata": {},
   "outputs": [],
   "source": [
    "starttime = datetime.datetime.now()\n",
    "adata1 = sc.read_10x_h5('../other_data/ica_cord_blood_h5.h5')\n",
    "adata2 = sc.read_10x_h5('../other_data/ica_bone_marrow_h5.h5')\n",
    "endtime = datetime.datetime.now()\n",
    "print((endtime-starttime).seconds)"
   ]
  },
  {
   "cell_type": "markdown",
   "metadata": {},
   "source": [
    "**Preprocessing:** Here we record the time it takes to preprocess the data, which on our computer is usually around 110s. And we acquire 656258 cells with 1615 highly variable genes."
   ]
  },
  {
   "cell_type": "code",
   "execution_count": null,
   "metadata": {},
   "outputs": [],
   "source": [
    "starttime = datetime.datetime.now()\n",
    "genes = sorted(list(set(adata1.var_names)))\n",
    "index_ = list(adata1.var_names)\n",
    "adata1 = adata1[:, [index_.index(gene) for gene in genes]]\n",
    "genes = sorted(list(set(adata2.var_names)))\n",
    "index_ = list(adata2.var_names)\n",
    "adata2 = adata2[:, [index_.index(gene) for gene in genes]]\n",
    "adata = adata1.concatenate(adata2)\n",
    "adata = imap.stage1.data_preprocess(adata, 'batch')  #Preprocess the data.\n",
    "adata.obs['batch'] = np.array([str(item) for item in adata.obs['batch']])\n",
    "adata.X = adata.X.toarray()\n",
    "endtime = datetime.datetime.now()\n",
    "print((endtime-starttime).seconds)\n",
    "print(adata)  #Output the basic information of the preprocessed data."
   ]
  },
  {
   "cell_type": "markdown",
   "metadata": {},
   "source": [
    "#### 2. Batch effect removal by iMAP"
   ]
  },
  {
   "cell_type": "markdown",
   "metadata": {},
   "source": [
    "See <font color='red'>Cell Line Tutorial</font> for details on the usage of `iMAP_fast` and `integrate_data`.\n",
    "\n",
    "To verify that the iMAP calculation time is not sensitive to the number of cells, we set the same parameters that we used to process the 'Tabula Muris' dataset. (See main text (Fig. 3e) for the time cost of iMAP versus the number of cells by downsampling from 500 to 100,000 cells of Tabula Muris.)\n",
    "\n",
    "Here we record the time that two iMAP's stages cost, which on our computer is usually around 198s."
   ]
  },
  {
   "cell_type": "code",
   "execution_count": null,
   "metadata": {
    "scrolled": true
   },
   "outputs": [],
   "source": [
    "starttime = datetime.datetime.now()\n",
    "\n",
    "### Stage I\n",
    "EC, ec_data = imap.stage1.iMAP_fast(adata, key=\"batch\", n_epochs=150) \n",
    "### Stage II\n",
    "output_results = imap.stage2.integrate_data(adata, ec_data, n_epochs=100)\n",
    "\n",
    "endtime = datetime.datetime.now()\n",
    "print((endtime-starttime).seconds)"
   ]
  },
  {
   "cell_type": "markdown",
   "metadata": {},
   "source": [
    "#### 3. Visualizations"
   ]
  },
  {
   "cell_type": "markdown",
   "metadata": {},
   "source": [
    "**Visualizations for the final output results**:The results are saved in './pic/' directory. \n",
    "    \n",
    "Due to the large number of cells in 'human cell atlas' dataset. The cost of time is usually around 1710s."
   ]
  },
  {
   "cell_type": "code",
   "execution_count": null,
   "metadata": {},
   "outputs": [],
   "source": [
    "import os\n",
    "import numpy as np\n",
    "import pandas as pd\n",
    "import seaborn as sns\n",
    "from sklearn.decomposition import PCA\n",
    "import matplotlib.pyplot as plt\n",
    "import umap\n",
    "\n",
    "#### UMAP ####\n",
    "def data2umap(data, n_pca=0):\n",
    "    if n_pca > 0:\n",
    "        pca = PCA(n_components=n_pca)\n",
    "        embedding = pca.fit_transform(data)\n",
    "    else:\n",
    "        embedding = data\n",
    "    embedding_ = umap.UMAP(\n",
    "        n_neighbors=30,\n",
    "        min_dist=0.3,\n",
    "        metric='cosine',\n",
    "        n_components = 2,\n",
    "        learning_rate = 1.0,\n",
    "        spread = 1.0,\n",
    "        set_op_mix_ratio = 1.0,\n",
    "        local_connectivity = 1,\n",
    "        repulsion_strength = 1,\n",
    "        negative_sample_rate = 5,\n",
    "        angular_rp_forest = False,\n",
    "        verbose = False\n",
    "    ).fit_transform(embedding)\n",
    "    return embedding_\n",
    "def umap_plot(data, hue, title, save_path):\n",
    "    import seaborn as sns\n",
    "    fig = sns.lmplot(\n",
    "        x = 'UMAP_1',\n",
    "        y = 'UMAP_2',\n",
    "        data = data,\n",
    "        fit_reg = False,\n",
    "        legend = True,\n",
    "        size = 9,\n",
    "        hue = hue,\n",
    "        scatter_kws = {'s':4, \"alpha\":0.6}\n",
    "    )\n",
    "    plt.title(title, weight='bold').set_fontsize('20')\n",
    "    fig.savefig(save_path)\n",
    "    plt.close()\n",
    "def gplot(embedding_, batch_info, celltype_info, filename):\n",
    "    test = pd.DataFrame(embedding_, columns=['UMAP_1', 'UMAP_2'])\n",
    "    test['Label1'] = batch_info\n",
    "    test['Label2'] = celltype_info\n",
    "    title = f' '\n",
    "    for i in range(1,3):\n",
    "        hue = f'Label{i}'\n",
    "        save_path = './pic/'+filename + f'{i}.png'\n",
    "        umap_plot(test, hue, title, save_path)"
   ]
  },
  {
   "cell_type": "code",
   "execution_count": null,
   "metadata": {},
   "outputs": [],
   "source": [
    "starttime = datetime.datetime.now()\n",
    "embedding_ = data2umap(output_results, n_pca=30)\n",
    "gplot(embedding_, np.array(adata.obs['batch']), np.array(adata.obs['batch']), 'human_cell_atlas_G_')\n",
    "endtime = datetime.datetime.now()\n",
    "print((endtime-starttime).seconds)"
   ]
  },
  {
   "cell_type": "markdown",
   "metadata": {
    "ExecuteTime": {
     "end_time": "2021-02-20T02:38:15.361189Z",
     "start_time": "2021-02-20T02:38:15.355063Z"
    }
   },
   "source": [
    "<center class=\"half\">\n",
    "    <img src=\"../pic/human_cell_atlas_G_2.png\" width=\"500\"/>\n",
    "</center>"
   ]
  },
  {
   "cell_type": "code",
   "execution_count": null,
   "metadata": {},
   "outputs": [],
   "source": []
  }
 ],
 "metadata": {
  "kernelspec": {
   "display_name": "Python 3",
   "language": "python",
   "name": "python3"
  },
  "language_info": {
   "codemirror_mode": {
    "name": "ipython",
    "version": 3
   },
   "file_extension": ".py",
   "mimetype": "text/x-python",
   "name": "python",
   "nbconvert_exporter": "python",
   "pygments_lexer": "ipython3",
   "version": "3.7.8"
  }
 },
 "nbformat": 4,
 "nbformat_minor": 2
}
